{
  "nbformat": 4,
  "nbformat_minor": 0,
  "metadata": {
    "colab": {
      "provenance": []
    },
    "kernelspec": {
      "name": "python3",
      "display_name": "Python 3"
    },
    "language_info": {
      "name": "python"
    }
  },
  "cells": [
    {
      "cell_type": "markdown",
      "source": [
        "ADD2"
      ],
      "metadata": {
        "id": "PM8N71dlrkUk"
      }
    },
    {
      "cell_type": "code",
      "execution_count": null,
      "metadata": {
        "colab": {
          "base_uri": "https://localhost:8080/"
        },
        "id": "Gzv_PvFApQT7",
        "outputId": "fd988f5e-fa09-492d-ddbb-3c8fdf02ec0d"
      },
      "outputs": [
        {
          "output_type": "stream",
          "name": "stdout",
          "text": [
            "Sum of 15 and 12 is 27\n"
          ]
        }
      ],
      "source": [
        "# Python3 program to add two numbers\n",
        " \n",
        "num1 = 15\n",
        "num2 = 12\n",
        " \n",
        "# Adding two nos\n",
        "sum = num1 + num2\n",
        " \n",
        "# printing values\n",
        "print(\"Sum of {0} and {1} is {2}\" .format(num1, num2, sum))"
      ]
    },
    {
      "cell_type": "code",
      "source": [
        "# Python3 program to add two numbers\n",
        " \n",
        "number1 = input(\"First number: \")\n",
        "number2 = input(\"\\nSecond number: \")\n",
        " \n",
        "# Adding two numbers\n",
        "# User might also enter float numbers\n",
        "sum = float(number1) + float(number2)\n",
        " \n",
        "# Display the sum\n",
        "# will print value in float\n",
        "print(\"The sum of {0} and {1} is {2}\" .format(number1, number2, sum))"
      ],
      "metadata": {
        "colab": {
          "base_uri": "https://localhost:8080/",
          "height": 408
        },
        "id": "1auYwbWUpf0h",
        "outputId": "873fb795-0112-4d36-aff9-c596eb450c29"
      },
      "execution_count": null,
      "outputs": [
        {
          "output_type": "error",
          "ename": "KeyboardInterrupt",
          "evalue": "ignored",
          "traceback": [
            "\u001b[0;31m---------------------------------------------------------------------------\u001b[0m",
            "\u001b[0;31mKeyboardInterrupt\u001b[0m                         Traceback (most recent call last)",
            "\u001b[0;32m<ipython-input-2-dce7e24b6b76>\u001b[0m in \u001b[0;36m<module>\u001b[0;34m\u001b[0m\n\u001b[1;32m      1\u001b[0m \u001b[0;31m# Python3 program to add two numbers\u001b[0m\u001b[0;34m\u001b[0m\u001b[0;34m\u001b[0m\u001b[0;34m\u001b[0m\u001b[0m\n\u001b[1;32m      2\u001b[0m \u001b[0;34m\u001b[0m\u001b[0m\n\u001b[0;32m----> 3\u001b[0;31m \u001b[0mnumber1\u001b[0m \u001b[0;34m=\u001b[0m \u001b[0minput\u001b[0m\u001b[0;34m(\u001b[0m\u001b[0;34m\"First number: \"\u001b[0m\u001b[0;34m)\u001b[0m\u001b[0;34m\u001b[0m\u001b[0;34m\u001b[0m\u001b[0m\n\u001b[0m\u001b[1;32m      4\u001b[0m \u001b[0mnumber2\u001b[0m \u001b[0;34m=\u001b[0m \u001b[0minput\u001b[0m\u001b[0;34m(\u001b[0m\u001b[0;34m\"\\nSecond number: \"\u001b[0m\u001b[0;34m)\u001b[0m\u001b[0;34m\u001b[0m\u001b[0;34m\u001b[0m\u001b[0m\n\u001b[1;32m      5\u001b[0m \u001b[0;34m\u001b[0m\u001b[0m\n",
            "\u001b[0;32m/usr/local/lib/python3.7/dist-packages/ipykernel/kernelbase.py\u001b[0m in \u001b[0;36mraw_input\u001b[0;34m(self, prompt)\u001b[0m\n\u001b[1;32m    861\u001b[0m             \u001b[0mself\u001b[0m\u001b[0;34m.\u001b[0m\u001b[0m_parent_ident\u001b[0m\u001b[0;34m,\u001b[0m\u001b[0;34m\u001b[0m\u001b[0;34m\u001b[0m\u001b[0m\n\u001b[1;32m    862\u001b[0m             \u001b[0mself\u001b[0m\u001b[0;34m.\u001b[0m\u001b[0m_parent_header\u001b[0m\u001b[0;34m,\u001b[0m\u001b[0;34m\u001b[0m\u001b[0;34m\u001b[0m\u001b[0m\n\u001b[0;32m--> 863\u001b[0;31m             \u001b[0mpassword\u001b[0m\u001b[0;34m=\u001b[0m\u001b[0;32mFalse\u001b[0m\u001b[0;34m,\u001b[0m\u001b[0;34m\u001b[0m\u001b[0;34m\u001b[0m\u001b[0m\n\u001b[0m\u001b[1;32m    864\u001b[0m         )\n\u001b[1;32m    865\u001b[0m \u001b[0;34m\u001b[0m\u001b[0m\n",
            "\u001b[0;32m/usr/local/lib/python3.7/dist-packages/ipykernel/kernelbase.py\u001b[0m in \u001b[0;36m_input_request\u001b[0;34m(self, prompt, ident, parent, password)\u001b[0m\n\u001b[1;32m    902\u001b[0m             \u001b[0;32mexcept\u001b[0m \u001b[0mKeyboardInterrupt\u001b[0m\u001b[0;34m:\u001b[0m\u001b[0;34m\u001b[0m\u001b[0;34m\u001b[0m\u001b[0m\n\u001b[1;32m    903\u001b[0m                 \u001b[0;31m# re-raise KeyboardInterrupt, to truncate traceback\u001b[0m\u001b[0;34m\u001b[0m\u001b[0;34m\u001b[0m\u001b[0;34m\u001b[0m\u001b[0m\n\u001b[0;32m--> 904\u001b[0;31m                 \u001b[0;32mraise\u001b[0m \u001b[0mKeyboardInterrupt\u001b[0m\u001b[0;34m(\u001b[0m\u001b[0;34m\"Interrupted by user\"\u001b[0m\u001b[0;34m)\u001b[0m \u001b[0;32mfrom\u001b[0m \u001b[0;32mNone\u001b[0m\u001b[0;34m\u001b[0m\u001b[0;34m\u001b[0m\u001b[0m\n\u001b[0m\u001b[1;32m    905\u001b[0m             \u001b[0;32mexcept\u001b[0m \u001b[0mException\u001b[0m \u001b[0;32mas\u001b[0m \u001b[0me\u001b[0m\u001b[0;34m:\u001b[0m\u001b[0;34m\u001b[0m\u001b[0;34m\u001b[0m\u001b[0m\n\u001b[1;32m    906\u001b[0m                 \u001b[0mself\u001b[0m\u001b[0;34m.\u001b[0m\u001b[0mlog\u001b[0m\u001b[0;34m.\u001b[0m\u001b[0mwarning\u001b[0m\u001b[0;34m(\u001b[0m\u001b[0;34m\"Invalid Message:\"\u001b[0m\u001b[0;34m,\u001b[0m \u001b[0mexc_info\u001b[0m\u001b[0;34m=\u001b[0m\u001b[0;32mTrue\u001b[0m\u001b[0;34m)\u001b[0m\u001b[0;34m\u001b[0m\u001b[0;34m\u001b[0m\u001b[0m\n",
            "\u001b[0;31mKeyboardInterrupt\u001b[0m: Interrupted by user"
          ]
        }
      ]
    },
    {
      "cell_type": "code",
      "source": [
        "# Python3 program to add two numbers\n",
        " \n",
        "# Driver Code\n",
        "if __name__ == \"__main__\" :\n",
        "   \n",
        "  num1 = 15\n",
        "  num2 = 12\n",
        "   \n",
        "  # Adding two numbers\n",
        "  sum_twoNum = lambda num1, num2 : num1 + num2\n",
        "   \n",
        "  # printing values\n",
        "  print(\"Sum of {0} and {1} is {2};\" .format(num1, num2, sum_twoNum(num1, num2)))"
      ],
      "metadata": {
        "id": "tdOsCf6IpmQh",
        "colab": {
          "base_uri": "https://localhost:8080/"
        },
        "outputId": "074a4084-7915-4fd5-df03-23352c579dff"
      },
      "execution_count": null,
      "outputs": [
        {
          "output_type": "stream",
          "name": "stdout",
          "text": [
            "Sum of 15 and 12 is 27;\n"
          ]
        }
      ]
    },
    {
      "cell_type": "markdown",
      "source": [
        "Maximum"
      ],
      "metadata": {
        "id": "PchQ8_3DrgyY"
      }
    },
    {
      "cell_type": "code",
      "source": [
        "# Python program to find the\n",
        "# maximum of two numbers\n",
        " \n",
        " \n",
        "def maximum(a, b):\n",
        "     \n",
        "    if a >= b:\n",
        "        return a\n",
        "    else:\n",
        "        return b\n",
        "     \n",
        "# Driver code\n",
        "a = 2\n",
        "b = 4\n",
        "print('Maximum is :',maximum(a, b))"
      ],
      "metadata": {
        "id": "gJFR9pVKq2wi",
        "colab": {
          "base_uri": "https://localhost:8080/"
        },
        "outputId": "f0954861-0148-4d84-fcb2-fde21d04a917"
      },
      "execution_count": null,
      "outputs": [
        {
          "output_type": "stream",
          "name": "stdout",
          "text": [
            "Maximum is : 4\n"
          ]
        }
      ]
    },
    {
      "cell_type": "code",
      "source": [
        "# Python program to find the\n",
        "# maximum of two numbers\n",
        " \n",
        " \n",
        "a = 2\n",
        "b = 4\n",
        " \n",
        "maximum = max(a, b)\n",
        "print(maximum)"
      ],
      "metadata": {
        "id": "40YWCAP9q6Db",
        "colab": {
          "base_uri": "https://localhost:8080/"
        },
        "outputId": "8e9758b8-afbb-4b30-a317-5f36b5b288cb"
      },
      "execution_count": null,
      "outputs": [
        {
          "output_type": "stream",
          "name": "stdout",
          "text": [
            "4\n"
          ]
        }
      ]
    },
    {
      "cell_type": "code",
      "source": [
        "# Python program to find the\n",
        "# maximum of two numbers\n",
        "     \n",
        "# Driver code\n",
        "a = 2\n",
        "b = 4\n",
        " \n",
        "# Use of ternary operator\n",
        "print(a if a >= b else b)\n",
        " \n"
      ],
      "metadata": {
        "id": "eAKtKPnWq-oA",
        "colab": {
          "base_uri": "https://localhost:8080/"
        },
        "outputId": "bf62c30a-f260-443e-efec-d0dbd330d38b"
      },
      "execution_count": null,
      "outputs": [
        {
          "output_type": "stream",
          "name": "stdout",
          "text": [
            "4\n"
          ]
        }
      ]
    },
    {
      "cell_type": "code",
      "source": [
        "# python code to find maximum of two numbers\n",
        " \n",
        "a=2;b=4\n",
        "maximum = lambda a,b:a if a > b else b\n",
        "print(f'{maximum(a,b)} is a maximum number')"
      ],
      "metadata": {
        "id": "pP2PvH1wrEYZ",
        "colab": {
          "base_uri": "https://localhost:8080/"
        },
        "outputId": "74845832-b2a7-4e19-fabe-6eb0ca843b4b"
      },
      "execution_count": null,
      "outputs": [
        {
          "output_type": "stream",
          "name": "stdout",
          "text": [
            "4 is a maximum number\n"
          ]
        }
      ]
    },
    {
      "cell_type": "code",
      "source": [
        "a=2;b=4\n",
        "x=[a if a>b else b]\n",
        "print(\"maximum number is:\",x)"
      ],
      "metadata": {
        "id": "y8PMVQRArJfg",
        "colab": {
          "base_uri": "https://localhost:8080/"
        },
        "outputId": "ff855dfe-dea2-43ad-bd25-591fca273677"
      },
      "execution_count": null,
      "outputs": [
        {
          "output_type": "stream",
          "name": "stdout",
          "text": [
            "maximum number is: [4]\n"
          ]
        }
      ]
    },
    {
      "cell_type": "markdown",
      "source": [
        "Factorial"
      ],
      "metadata": {
        "id": "grucljPJrpPR"
      }
    },
    {
      "cell_type": "code",
      "source": [
        "# Python 3 program to find\n",
        "# factorial of given number\n",
        "def factorial(n):\n",
        "     \n",
        "    # single line to find factorial\n",
        "    return 1 if (n==1 or n==0) else n * factorial(n - 1);\n",
        " \n",
        "# Driver Code\n",
        "num = 5;\n",
        "print(\"Factorial of\",num,\"is\",\n",
        "factorial(num))"
      ],
      "metadata": {
        "id": "ZcfAMEOCrSaw",
        "colab": {
          "base_uri": "https://localhost:8080/"
        },
        "outputId": "e1ad72fe-e57a-49ba-9204-c113ca18df3c"
      },
      "execution_count": null,
      "outputs": [
        {
          "output_type": "stream",
          "name": "stdout",
          "text": [
            "Factorial of 5 is 120\n"
          ]
        }
      ]
    },
    {
      "cell_type": "code",
      "source": [
        "n=5\n",
        "f=lambda n: 1 if (n==1 or n==0) else n*factorial(n-1)"
      ],
      "metadata": {
        "id": "K6-QO_uU6H4h"
      },
      "execution_count": null,
      "outputs": []
    },
    {
      "cell_type": "code",
      "source": [
        "\n",
        "# Python 3 program to find \n",
        "# factorial of given number\n",
        "def factorial(n):\n",
        "    if n < 0:\n",
        "        return 0\n",
        "    elif n == 0 or n == 1:\n",
        "        return 1\n",
        "    else:\n",
        "        fact = 1\n",
        "        while(n > 1):\n",
        "            fact *= n\n",
        "            n -= 1\n",
        "        return fact\n",
        " \n",
        "# Driver Code\n",
        "num = 5;\n",
        "print(\"Factorial of\",num,\"is\",factorial(num))"
      ],
      "metadata": {
        "id": "bVJNDpx5rWfw",
        "colab": {
          "base_uri": "https://localhost:8080/"
        },
        "outputId": "6458e393-6c28-4a5a-ab71-5c9048db3335"
      },
      "execution_count": null,
      "outputs": [
        {
          "output_type": "stream",
          "name": "stdout",
          "text": [
            "Factorial of 5 is 120\n"
          ]
        }
      ]
    },
    {
      "cell_type": "code",
      "source": [
        "# Python 3 program to find\n",
        "# factorial of given number\n",
        "  \n",
        "# Function to find factorial of given number\n",
        "def factorial(n):\n",
        "       \n",
        "    res = 1\n",
        "      \n",
        "    for i in range(2, n+1):\n",
        "        res *= i\n",
        "    return res\n",
        " # Driver Code\n",
        "num = 5;\n",
        "print(\"Factorial of\", num, \"is\",\n",
        "factorial(num))"
      ],
      "metadata": {
        "id": "vUkY9bmSrxYo",
        "colab": {
          "base_uri": "https://localhost:8080/"
        },
        "outputId": "71fec2c9-b0d1-44b6-b729-ffc62d73e103"
      },
      "execution_count": null,
      "outputs": [
        {
          "output_type": "stream",
          "name": "stdout",
          "text": [
            "Factorial of 5 is 120\n"
          ]
        }
      ]
    },
    {
      "cell_type": "code",
      "source": [
        "# Python 3 program to find\n",
        "# factorial of given number\n",
        " \n",
        "def factorial(n):\n",
        " \n",
        "    # single line to find factorial\n",
        "    return 1 if (n==1 or n==0) else n * factorial(n - 1)\n",
        " \n",
        " \n",
        "# Driver Code\n",
        "num = 5\n",
        "print (\"Factorial of\",num,\"is\",\n",
        "      factorial(num))"
      ],
      "metadata": {
        "id": "BjcY2xAgr1hQ"
      },
      "execution_count": null,
      "outputs": []
    },
    {
      "cell_type": "code",
      "source": [
        "# Python 3 program to find\n",
        "# factorial of given number\n",
        "import math\n",
        " \n",
        "def factorial(n):\n",
        "    return(math.factorial(n))\n",
        " \n",
        " \n",
        "# Driver Code\n",
        "num = 5\n",
        "print(\"Factorial of\", num, \"is\",\n",
        "      factorial(num))"
      ],
      "metadata": {
        "id": "q65BUvfcr6qD"
      },
      "execution_count": null,
      "outputs": []
    },
    {
      "cell_type": "code",
      "source": [
        "import numpy\n",
        "n=5\n",
        "x=numpy.prod([i for i in range(1,n+1)])\n",
        "print(x)"
      ],
      "metadata": {
        "id": "jDxZyldVsAlg",
        "colab": {
          "base_uri": "https://localhost:8080/"
        },
        "outputId": "2302e20d-89b2-4486-8c8c-efcf6a52304b"
      },
      "execution_count": null,
      "outputs": [
        {
          "output_type": "stream",
          "name": "stdout",
          "text": [
            "120\n"
          ]
        }
      ]
    },
    {
      "cell_type": "markdown",
      "source": [
        "Simple Interest"
      ],
      "metadata": {
        "id": "ITRaWpUvvh-P"
      }
    },
    {
      "cell_type": "code",
      "source": [
        "# Python3 program to find simple interest\n",
        "# for given principal amount, time and\n",
        "# rate of interest.\n",
        " \n",
        " \n",
        "def simple_interest(p,t,r):\n",
        "    print('The principal is', p)\n",
        "    print('The time period is', t)\n",
        "    print('The rate of interest is',r)\n",
        "     \n",
        "    si = (p * t * r)/100\n",
        "     \n",
        "    print('The Simple Interest is', si)\n",
        "    return si\n",
        "     \n",
        "# Driver code\n",
        "simple_interest(8, 6, 8)"
      ],
      "metadata": {
        "id": "QzX-ruIVsHJg"
      },
      "execution_count": null,
      "outputs": []
    },
    {
      "cell_type": "markdown",
      "source": [
        "Compound Interest"
      ],
      "metadata": {
        "id": "TGiURuJ5veYO"
      }
    },
    {
      "cell_type": "code",
      "source": [
        "# Python3 program to find compound\n",
        "# interest for given values.\n",
        " \n",
        " \n",
        "def compound_interest(principle, rate, time):\n",
        " \n",
        "    # Calculates compound interest\n",
        "    Amount = principle * (pow((1 + rate / 100), time))\n",
        "    CI = Amount - principle\n",
        "    print(\"Compound interest is\", CI)\n",
        " \n",
        " \n",
        "# Driver Code\n",
        "compound_interest(10000, 10.25, 5)"
      ],
      "metadata": {
        "id": "c4RaZSfgu_nY"
      },
      "execution_count": null,
      "outputs": []
    },
    {
      "cell_type": "code",
      "source": [
        "# Python code\n",
        "# To find compound interest\n",
        " \n",
        "# inputs\n",
        "p= 1200   # principle amount\n",
        "t= 2      # time\n",
        "r= 5.4    # rate\n",
        "# calculates the compound interest\n",
        "a=p*(1+(r/100))**t  # formula for calculating amount\n",
        "ci=a-p  # compound interest = amount - principal amount\n",
        "# printing compound interest value\n",
        "print(ci)"
      ],
      "metadata": {
        "id": "Zz2-ro0tvDBP"
      },
      "execution_count": null,
      "outputs": []
    },
    {
      "cell_type": "markdown",
      "source": [
        "Armstrong"
      ],
      "metadata": {
        "id": "zeg-7d0ovWG3"
      }
    },
    {
      "cell_type": "code",
      "source": [
        "# Python program to determine whether\n",
        "# the number is Armstrong number or not\n",
        " \n",
        "# Function to calculate x raised to\n",
        "# the power y\n",
        "def power(x, y):\n",
        "     \n",
        "    if y == 0:\n",
        "        return 1\n",
        "    if y % 2 == 0:\n",
        "        return power(x, y // 2) * power(x, y // 2)\n",
        "         \n",
        "    return x * power(x, y // 2) * power(x, y // 2)\n",
        " \n",
        "# Function to calculate order of the number\n",
        "def order(x):\n",
        " \n",
        "    # Variable to store of the number\n",
        "    n = 0\n",
        "    while (x != 0):\n",
        "        n = n + 1\n",
        "        x = x // 10\n",
        "         \n",
        "    return n\n",
        " \n",
        "# Function to check whether the given\n",
        "# number is Armstrong number or not\n",
        "def isArmstrong(x):\n",
        "     \n",
        "    n = order(x)\n",
        "    temp = x\n",
        "    sum1 = 0\n",
        "     \n",
        "    while (temp != 0):\n",
        "        r = temp % 10\n",
        "        sum1 = sum1 + power(r, n)\n",
        "        temp = temp // 10\n",
        " \n",
        "    # If condition satisfies\n",
        "    return (sum1 == x)\n",
        " \n",
        "# Driver code\n",
        "x = 153\n",
        "print(isArmstrong(x))\n",
        " \n",
        "x = 1253\n",
        "print(isArmstrong(x))"
      ],
      "metadata": {
        "id": "q6pvc34yvXkv"
      },
      "execution_count": null,
      "outputs": []
    },
    {
      "cell_type": "code",
      "source": [
        "# python 3 program\n",
        "# to check whether the given number is armstrong or not\n",
        "# without using power function\n",
        " \n",
        "n = 153  # or n=int(input()) -> taking input from user\n",
        "s = n  # assigning input value to the s variable\n",
        "b = len(str(n))\n",
        "sum1 = 0\n",
        "while n != 0:\n",
        "    r = n % 10\n",
        "    sum1 = sum1+(r**b)\n",
        "    n = n//10\n",
        "if s == sum1:\n",
        "    print(\"The given number\", s, \"is armstrong number\")\n",
        "else:\n",
        "    print(\"The given number\", s, \"is not armstrong number\")\n",
        " "
      ],
      "metadata": {
        "id": "dxHf8RCFvb_o"
      },
      "execution_count": null,
      "outputs": []
    },
    {
      "cell_type": "markdown",
      "source": [
        "Area of a circle\n",
        " "
      ],
      "metadata": {
        "id": "X0PIlULWvmQ3"
      }
    },
    {
      "cell_type": "code",
      "source": [
        "# Python program to find Area of a circle\n",
        " \n",
        "def findArea(r):\n",
        "    PI = 3.142\n",
        "    return PI * (r*r);\n",
        " \n",
        "# Driver method\n",
        "print(\"Area is %.6f\" % findArea(5));\n",
        " "
      ],
      "metadata": {
        "id": "ht76opvQvnEY"
      },
      "execution_count": null,
      "outputs": []
    },
    {
      "cell_type": "code",
      "source": [
        "# Python program to find Area of a circle using inbuild library\n",
        " \n",
        "import math\n",
        "def area(r):\n",
        " area = math.pi* pow(r,2)\n",
        " return print('Area of circle is:' ,area)\n",
        "area(4)\n",
        " "
      ],
      "metadata": {
        "id": "HJTJ2rylvzQg"
      },
      "execution_count": null,
      "outputs": []
    },
    {
      "cell_type": "markdown",
      "source": [
        "Prime numbers"
      ],
      "metadata": {
        "id": "3g8r4-kpwK4v"
      }
    },
    {
      "cell_type": "code",
      "source": [
        "# Python3 program to display Prime numbers till N\n",
        "  \n",
        "#function to check if a given number is prime\n",
        "def isPrime(n):\n",
        "  #since 0 and 1 is not prime return false.\n",
        "  if(n==1 or n==0):\n",
        "    return False\n",
        "    \n",
        "  #Run a loop from 2 to n-1\n",
        "  for i in range(2,n):\n",
        "    #if the number is divisible by i, then n is not a prime number.\n",
        "    if(n%i==0):\n",
        "      return False\n",
        "    \n",
        "  #otherwise, n is prime number.\n",
        "  return True\n",
        "  \n",
        "  \n",
        "  \n",
        "# Driver code\n",
        "N = 100;\n",
        "#check for every number from 1 to N\n",
        "for i in range(1,N+1):\n",
        "  #check if current number is prime\n",
        "  if(isPrime(i)):\n",
        "    print(i,end=\" \")"
      ],
      "metadata": {
        "id": "Rq0Y8SeAwHIm"
      },
      "execution_count": null,
      "outputs": []
    },
    {
      "cell_type": "code",
      "source": [
        "# Python3 program to display Prime numbers till N\n",
        "  \n",
        "#function to check if a given number is prime\n",
        "def isPrime(n):\n",
        "  #since 0 and 1 is not prime return false.\n",
        "  if(n==1 or n==0):\n",
        "    return False\n",
        "    \n",
        "  #Run a loop from 2 to n/2\n",
        "  for i in range(2,(n//2)+1):\n",
        "    #if the number is divisible by i, then n is not a prime number.\n",
        "    if(n%i==0):\n",
        "      return False\n",
        "    \n",
        "  #otherwise, n is prime number.\n",
        "  return True\n",
        "  \n",
        "  \n",
        "  \n",
        "# Driver code\n",
        "N = 100;\n",
        "#check for every number from 1 to N\n",
        "for i in range(1,N+1):\n",
        "  #check if current number is prime\n",
        "  if(isPrime(i)):\n",
        "    print(i,end=\" \")"
      ],
      "metadata": {
        "id": "Wza6ojR6wQOn"
      },
      "execution_count": null,
      "outputs": []
    },
    {
      "cell_type": "code",
      "source": [
        "# Python3 program to display Prime numbers till N\n",
        "  \n",
        "#function to check if a given number is prime\n",
        "def isPrime(n):\n",
        "  #since 0 and 1 is not prime return false.\n",
        "  if(n==1 or n==0):\n",
        "    return False\n",
        "    \n",
        "  #Run a loop from 2 to square root of n.\n",
        "  for i in range(2,int(n**(1/2))+1):\n",
        "    #if the number is divisible by i, then n is not a prime number.\n",
        "    if(n%i==0):\n",
        "      return False\n",
        "    \n",
        "  #otherwise, n is prime number.\n",
        "  return True\n",
        "  \n",
        "  \n",
        "  \n",
        "# Driver code\n",
        "N = 100;\n",
        "#check for every number from 1 to N\n",
        "for i in range(1,N+1):\n",
        "  #check if current number is prime\n",
        "  if(isPrime(i)):\n",
        "    print(i,end=\" \")"
      ],
      "metadata": {
        "id": "OIAAAsipwVSf"
      },
      "execution_count": null,
      "outputs": []
    },
    {
      "cell_type": "markdown",
      "source": [
        "number is perfect"
      ],
      "metadata": {
        "id": "aAQU4FGiwfVW"
      }
    },
    {
      "cell_type": "code",
      "source": [
        "# Python3 code to check if a given\n",
        "# number is perfect or not\n",
        " \n",
        "# Returns true if n is perfect\n",
        "def isPerfect( n ):\n",
        "     \n",
        "    # To store sum of divisors\n",
        "    sum = 1\n",
        "     \n",
        "    # Find all divisors and add them\n",
        "    i = 2\n",
        "    while i * i <= n:\n",
        "        if n % i == 0:\n",
        "            sum = sum + i + n/i\n",
        "        i += 1\n",
        "     \n",
        "    # If sum of divisors is equal to\n",
        "    # n, then n is a perfect number\n",
        "     \n",
        "    return (True if sum == n and n!=1 else False)\n",
        " \n",
        "# Driver program\n",
        "print(\"Below are all perfect numbers till 10000\")\n",
        "n = 2\n",
        "for n in range (10000):\n",
        "    if isPerfect (n):\n",
        "        print(n , \" is a perfect number\")\n",
        "         "
      ],
      "metadata": {
        "id": "9jWoiY-zwcCG"
      },
      "execution_count": null,
      "outputs": []
    },
    {
      "cell_type": "markdown",
      "source": [
        "print all\n",
        "# prime number in an interval"
      ],
      "metadata": {
        "id": "uOSuCi9pxFZo"
      }
    },
    {
      "cell_type": "code",
      "source": [
        "# Python program to print all\n",
        "# prime number in an interval\n",
        " \n",
        "def prime(x, y):\n",
        "    prime_list = []\n",
        "    for i in range(x, y):\n",
        "        if i == 0 or i == 1:\n",
        "            continue\n",
        "        else:\n",
        "            for j in range(2, int(i/2)+1):\n",
        "                if i % j == 0:\n",
        "                    break\n",
        "            else:\n",
        "                prime_list.append(i)\n",
        "    return prime_list\n",
        " \n",
        "# Driver program\n",
        "starting_range = 2\n",
        "ending_range = 7\n",
        "lst = prime(starting_range, ending_range)\n",
        "if len(lst) == 0:\n",
        "    print(\"There are no prime numbers in this range\")\n",
        "else:\n",
        "    print(\"The prime numbers in this range are: \", lst)"
      ],
      "metadata": {
        "id": "pSALdRz7xCjX"
      },
      "execution_count": null,
      "outputs": []
    },
    {
      "cell_type": "markdown",
      "source": [
        "Give number prime or not"
      ],
      "metadata": {
        "id": "RLtDwi7IxUsf"
      }
    },
    {
      "cell_type": "code",
      "source": [
        "num = 11\n",
        "# If given number is greater than 1\n",
        "if num > 1:\n",
        "    # Iterate from 2 to n / 2\n",
        "    for i in range(2, int(num/2)+1):\n",
        "        # If num is divisible by any number between\n",
        "        # 2 and n / 2, it is not prime\n",
        "        if (num % i) == 0:\n",
        "            print(num, \"is not a prime number\")\n",
        "            break\n",
        "    else:\n",
        "        print(num, \"is a prime number\")\n",
        "else:\n",
        "    print(num, \"is not a prime number\")"
      ],
      "metadata": {
        "id": "8-8_XUKxxQuX"
      },
      "execution_count": null,
      "outputs": []
    },
    {
      "cell_type": "code",
      "source": [
        "from math import sqrt\n",
        "# n is the number to be check whether it is prime or not\n",
        "n = 1\n",
        " \n",
        "# this flag maintains status whether the n is prime or not\n",
        "prime_flag = 0\n",
        " \n",
        "if(n > 1):\n",
        "    for i in range(2, int(sqrt(n)) + 1):\n",
        "        if (n % i == 0):\n",
        "            prime_flag = 1\n",
        "            break\n",
        "    if (prime_flag == 0):\n",
        "        print(\"True\")\n",
        "    else:\n",
        "        print(\"False\")\n",
        "else:\n",
        "    print(\"False\")"
      ],
      "metadata": {
        "id": "DS3cipMWxZ4u"
      },
      "execution_count": null,
      "outputs": []
    },
    {
      "cell_type": "markdown",
      "source": [
        "nth Fibonacci number"
      ],
      "metadata": {
        "id": "ChzMss35xgRW"
      }
    },
    {
      "cell_type": "code",
      "source": [
        "# Function for nth Fibonacci number\n",
        " \n",
        "def Fibonacci(n):\n",
        "    if n<= 0:\n",
        "        print(\"Incorrect input\")\n",
        "    # First Fibonacci number is 0\n",
        "    elif n == 1:\n",
        "        return 0\n",
        "    # Second Fibonacci number is 1\n",
        "    elif n == 2:\n",
        "        return 1\n",
        "    else:\n",
        "        return Fibonacci(n-1)+Fibonacci(n-2)\n",
        " \n",
        "# Driver Program\n",
        " \n",
        "print(Fibonacci(10))\n",
        " "
      ],
      "metadata": {
        "id": "5r6WB_Rgxehx"
      },
      "execution_count": null,
      "outputs": []
    },
    {
      "cell_type": "code",
      "source": [
        "# Function for nth fibonacci number - Dynamic Programming\n",
        "# Taking 1st two fibonacci numbers as 0 and 1\n",
        " \n",
        "FibArray = [0, 1]\n",
        " \n",
        "def fibonacci(n):\n",
        "    if n<0:\n",
        "        print(\"Incorrect input\")\n",
        "    elif n<= len(FibArray):\n",
        "        return FibArray[n-1]\n",
        "    else:\n",
        "        temp_fib = fibonacci(n-1)+fibonacci(n-2)\n",
        "        FibArray.append(temp_fib)\n",
        "        return temp_fib\n",
        " \n",
        "# Driver Program\n",
        " \n",
        "print(fibonacci(9))\n",
        " "
      ],
      "metadata": {
        "id": "cElx0ZPCxhc-"
      },
      "execution_count": null,
      "outputs": []
    },
    {
      "cell_type": "code",
      "source": [
        "# Function for nth fibonacci number - Space Optimisation\n",
        "# Taking 1st two fibonacci numbers as 0 and 1\n",
        " \n",
        "def fibonacci(n):\n",
        "    a = 0\n",
        "    b = 1\n",
        "    if n < 0:\n",
        "        print(\"Incorrect input\")\n",
        "    elif n == 0:\n",
        "        return a\n",
        "    elif n == 1:\n",
        "        return b\n",
        "    else:\n",
        "        for i in range(2, n):\n",
        "            c = a + b\n",
        "            a = b\n",
        "            b = c\n",
        "        return b\n",
        " \n",
        "# Driver Program\n",
        " \n",
        "print(fibonacci(9))"
      ],
      "metadata": {
        "id": "vR0g_0igxnB1"
      },
      "execution_count": null,
      "outputs": []
    },
    {
      "cell_type": "code",
      "source": [
        "# creating an array in the function to find the\n",
        "#nth number in fibonacci series. [0, 1, 1, ...]\n",
        "def fibonacci(n):\n",
        "    if n <= 0:\n",
        "        return \"Incorrect Output\"\n",
        "    data = [0, 1]\n",
        "    if n > 2:\n",
        "        for i in range(2, n):\n",
        "            data.append(data[i-1] + data[i-2])\n",
        "    return data[n-1]\n",
        " \n",
        "# Driver Program\n",
        "print(fibonacci(9))"
      ],
      "metadata": {
        "id": "dX5iiOV4xuv9"
      },
      "execution_count": null,
      "outputs": []
    },
    {
      "cell_type": "code",
      "source": [
        "# To find the n-th Fibonacci Number using formula\n",
        "from math import sqrt\n",
        "# import square-root method from math library\n",
        "def nthFib(n):\n",
        "    res = (((1+sqrt(5))**n)-((1-sqrt(5)))**n)/(2**n*sqrt(5))\n",
        "    # compute the n-th fibonacci number\n",
        "    print(int(res),'is',str(n)+'th fibonacci number')\n",
        "    # format and print the number\n",
        "     \n",
        "# driver code\n",
        "nthFib(12)"
      ],
      "metadata": {
        "id": "mLddobzox1X_"
      },
      "execution_count": null,
      "outputs": []
    },
    {
      "cell_type": "markdown",
      "source": [
        "for nth Fibonacci number"
      ],
      "metadata": {
        "id": "8iu3C-aWyAJ-"
      }
    },
    {
      "cell_type": "code",
      "source": [
        "# Function for nth Fibonacci number\n",
        "def Fibonacci(n):\n",
        "   \n",
        "    # Check if input is 0 then it will\n",
        "    # print incorrect input\n",
        "    if n < 0:\n",
        "        print(\"Incorrect input\")\n",
        " \n",
        "    # Check if n is 0\n",
        "    # then it will return 0\n",
        "    elif n == 0:\n",
        "        return 0\n",
        " \n",
        "    # Check if n is 1,2\n",
        "    # it will return 1\n",
        "    elif n == 1 or n == 2:\n",
        "        return 1\n",
        " \n",
        "    else:\n",
        "        return Fibonacci(n-1) + Fibonacci(n-2)\n",
        " \n",
        "# Driver Program\n",
        "print(Fibonacci(9))"
      ],
      "metadata": {
        "id": "mIVcEl3yx78-"
      },
      "execution_count": null,
      "outputs": []
    },
    {
      "cell_type": "code",
      "source": [
        "# Function for nth fibonacci\n",
        "# number - Dynamic Programming\n",
        "# Taking 1st two fibonacci numbers as 0 and 1\n",
        "FibArray = [0, 1]\n",
        " \n",
        "def fibonacci(n):\n",
        "   \n",
        "    # Check is n is less\n",
        "    # than 0\n",
        "    if n < 0:\n",
        "        print(\"Incorrect input\")\n",
        "         \n",
        "    # Check is n is less\n",
        "    # than len(FibArray)\n",
        "    elif n < len(FibArray):\n",
        "        return FibArray[n]\n",
        "    else:       \n",
        "        FibArray.append(fibonacci(n - 1) + fibonacci(n - 2))\n",
        "        return FibArray[n]\n",
        " \n",
        "# Driver Program\n",
        "print(fibonacci(9))"
      ],
      "metadata": {
        "id": "XtP7aDvJyFSO"
      },
      "execution_count": null,
      "outputs": []
    },
    {
      "cell_type": "code",
      "source": [
        "# Function for nth fibonacci\n",
        "# number - Space Optimisation\n",
        "# Taking 1st two fibonacci numbers as 0 and 1\n",
        " \n",
        "def fibonacci(n):\n",
        "    a = 0\n",
        "    b = 1\n",
        "     \n",
        "    # Check is n is less\n",
        "    # than 0\n",
        "    if n < 0:\n",
        "        print(\"Incorrect input\")\n",
        "         \n",
        "    # Check is n is equal\n",
        "    # to 0\n",
        "    elif n == 0:\n",
        "        return 0\n",
        "       \n",
        "    # Check if n is equal to 1\n",
        "    elif n == 1:\n",
        "        return b\n",
        "    else:\n",
        "        for i in range(1, n):\n",
        "            c = a + b\n",
        "            a = b\n",
        "            b = c\n",
        "        return b\n",
        " \n",
        "# Driver Program\n",
        "print(fibonacci(9))\n",
        " "
      ],
      "metadata": {
        "id": "qmIQ2sFcyMZl"
      },
      "execution_count": null,
      "outputs": []
    },
    {
      "cell_type": "markdown",
      "source": [
        "print ASCII Value of Character"
      ],
      "metadata": {
        "id": "yErgfQfA4juO"
      }
    },
    {
      "cell_type": "code",
      "source": [
        "# Python program to print\n",
        "# ASCII Value of Character\n",
        " \n",
        "# In c we can assign different\n",
        "# characters of which we want ASCII value\n",
        " \n",
        "c = 'g'\n",
        "# print the ASCII value of assigned character in c\n",
        "print(\"The ASCII value of '\" + c + \"' is\", ord(c))"
      ],
      "metadata": {
        "id": "R7sa68C14hyu"
      },
      "execution_count": null,
      "outputs": []
    },
    {
      "cell_type": "code",
      "source": [
        "print(\"Enter a String: \", end=\"\")\n",
        "text = input()\n",
        "textlength = len(text)\n",
        "for char in text:\n",
        "    ascii = ord(char)\n",
        "    print(char, \"\\t\", ascii)"
      ],
      "metadata": {
        "id": "eY-KYtLT42BG"
      },
      "execution_count": null,
      "outputs": []
    },
    {
      "cell_type": "markdown",
      "source": [
        "find sum of square of first n natural "
      ],
      "metadata": {
        "id": "JD61Xl3a5Dim"
      }
    },
    {
      "cell_type": "code",
      "source": [
        "# Python3 Program to\n",
        "# find sum of square\n",
        "# of first n natural \n",
        "# numbers\n",
        "  \n",
        "  \n",
        "# Return the sum of\n",
        "# square of first n\n",
        "# natural numbers\n",
        "def squaresum(n) :\n",
        "  \n",
        "    # Iterate i from 1 \n",
        "    # and n finding \n",
        "    # square of i and\n",
        "    # add to sum.\n",
        "    sm = 0\n",
        "    for i in range(1, n+1) :\n",
        "        sm = sm + (i * i)\n",
        "      \n",
        "    return sm\n",
        "  \n",
        "# Driven Program\n",
        "n = 4\n",
        "print(squaresum(n))"
      ],
      "metadata": {
        "id": "MwVaOgln5AyF"
      },
      "execution_count": null,
      "outputs": []
    },
    {
      "cell_type": "code",
      "source": [
        "# Python3 Program to\n",
        "# find sum of square \n",
        "# of first n natural \n",
        "# numbers\n",
        "  \n",
        "# Return the sum of \n",
        "# square of first n\n",
        "# natural numbers\n",
        "def squaresum(n) :\n",
        "    return (n * (n + 1) * (2 * n + 1)) // 6\n",
        "  \n",
        "# Driven Program\n",
        "n = 4\n",
        "print(squaresum(n))\n",
        "  "
      ],
      "metadata": {
        "id": "zncHCpZ05Nfo"
      },
      "execution_count": null,
      "outputs": []
    },
    {
      "cell_type": "code",
      "source": [
        "# Python Program to find sum of square of first\n",
        "# n natural numbers. This program avoids\n",
        "# overflow upto some extent for large value\n",
        "# of n.y\n",
        "  \n",
        "def squaresum(n):\n",
        "    return (n * (n + 1) / 2) * (2 * n + 1) / 3\n",
        "  \n",
        "# main()\n",
        "n = 4\n",
        "print(squaresum(n));"
      ],
      "metadata": {
        "id": "bq7eJL0i5W6N"
      },
      "execution_count": null,
      "outputs": []
    },
    {
      "cell_type": "markdown",
      "source": [
        "find sum of series with cubes of first n natural numbers"
      ],
      "metadata": {
        "id": "aZZBA_Z25koW"
      }
    },
    {
      "cell_type": "code",
      "source": [
        "# Simple Python program to find sum of series\n",
        "# with cubes of first n natural numbers\n",
        " \n",
        "# Returns the sum of series\n",
        "def sumOfSeries(n):\n",
        "    sum = 0\n",
        "    for i in range(1, n+1):\n",
        "        sum +=pow(i,3)\n",
        "         \n",
        "    return sum\n",
        " \n",
        "  \n",
        "# Driver Function\n",
        "n = 5\n",
        "print(sumOfSeries(n))\n",
        " "
      ],
      "metadata": {
        "id": "tYSgx4sM5gBn"
      },
      "execution_count": null,
      "outputs": []
    },
    {
      "cell_type": "code",
      "source": [
        "# A formula based Python program to find sum\n",
        "# of series with cubes of first n natural\n",
        "# numbers\n",
        " \n",
        "# Returns the sum of series\n",
        "def sumOfSeries(n):\n",
        "    x = (n * (n + 1)  / 2)\n",
        "    return (int)(x * x)\n",
        " \n",
        " \n",
        "  \n",
        "# Driver Function\n",
        "n = 5\n",
        "print(sumOfSeries(n))"
      ],
      "metadata": {
        "id": "_kBGE46L8LNE"
      },
      "execution_count": null,
      "outputs": []
    },
    {
      "cell_type": "code",
      "source": [
        "# Efficient Python program to find sum of cubes\n",
        "# of first n natural numbers that avoids\n",
        "# overflow if result is going to be withing\n",
        "# limits.\n",
        "\n",
        "# Returns the sum of series\n",
        "def sumOfSeries(n):\n",
        "\tx = 0\n",
        "\tif n % 2 == 0 :\n",
        "\t\tx = (n/2) * (n+1)\n",
        "\telse:\n",
        "\t\tx = ((n + 1) / 2) * n\n",
        "\t\t\n",
        "\treturn (int)(x * x)\n",
        "\n",
        "\n",
        "# Driver Function\n",
        "n = 5\n",
        "print(sumOfSeries(n))\n",
        "\n",
        "# Code Contributed by Mohit Gupta_OMG <(0_o)>\n"
      ],
      "metadata": {
        "id": "kt7SKYF18P_M"
      },
      "execution_count": null,
      "outputs": []
    },
    {
      "cell_type": "code",
      "source": [
        "# Python code\n",
        "# to print cube sum of first n natural numbers\n",
        "# using inbuilt function pow()\n",
        "\n",
        "n=5\n",
        "s=0\n",
        "# iterating loop up to given number n\n",
        "for i in range(1,n+1):\n",
        "\t# adding cube sum using pow() function\n",
        "\ts=s+pow(i,3)\n",
        "print(s)\n",
        "\n",
        "# this code is contributed by gangarajula laxmi\n"
      ],
      "metadata": {
        "id": "cLgCh8Hs8TP0"
      },
      "execution_count": null,
      "outputs": []
    },
    {
      "cell_type": "markdown",
      "source": [
        "#Array Program"
      ],
      "metadata": {
        "id": "Hfbgxxm58vbB"
      }
    },
    {
      "cell_type": "markdown",
      "source": [
        "find sum of elements in given array"
      ],
      "metadata": {
        "id": "LhQCUeYr88lr"
      }
    },
    {
      "cell_type": "code",
      "source": [
        "# Python 3 code to find sum\n",
        "# of elements in given array\n",
        "\n",
        "\n",
        "def _sum(arr):\n",
        "\n",
        "\t# initialize a variable\n",
        "\t# to store the sum\n",
        "\t# while iterating through\n",
        "\t# the array later\n",
        "\tsum = 0\n",
        "\n",
        "\t# iterate through the array\n",
        "\t# and add each element to the sum variable\n",
        "\t# one at a time\n",
        "\tfor i in arr:\n",
        "\t\tsum = sum + i\n",
        "\n",
        "\treturn(sum)\n",
        "\n",
        "\n",
        "# driver function\n",
        "arr = []\n",
        "# input values to list\n",
        "arr = [12, 3, 4, 15]\n",
        "\n",
        "# calculating length of array\n",
        "n = len(arr)\n",
        "\n",
        "ans = _sum(arr)\n",
        "\n",
        "# display sum\n",
        "print('Sum of the array is ', ans)\n"
      ],
      "metadata": {
        "id": "-rIWT0Gu8snN"
      },
      "execution_count": null,
      "outputs": []
    },
    {
      "cell_type": "code",
      "source": [
        "# Python 3 code to find sum\n",
        "# of elements in given array\n",
        "# driver function\n",
        "arr = []\n",
        "\n",
        "# input values to list\n",
        "arr = [12, 3, 4, 15]\n",
        "\n",
        "# sum() is an inbuilt function in python that adds\n",
        "# all the elements in list,set and tuples and returns\n",
        "# the value\n",
        "ans = sum(arr)\n",
        "\n",
        "# display sum\n",
        "print('Sum of the array is ', ans)\n"
      ],
      "metadata": {
        "id": "k1S2GALH9Iac"
      },
      "execution_count": null,
      "outputs": []
    },
    {
      "cell_type": "code",
      "source": [
        "from functools import reduce\n",
        "# Python 3 code to find sum\n",
        "# of elements in given array\n",
        "\n",
        "\n",
        "def _sum(arr):\n",
        "\n",
        "\t# iterate over array\n",
        "\t# using reduce and get\n",
        "\t# sum on accumulator\n",
        "\tsum = reduce(lambda a, b: a+b, arr)\n",
        "\n",
        "\treturn(sum)\n",
        "\n",
        "\n",
        "# driver function\n",
        "arr = []\n",
        "# input values to list\n",
        "arr = [12, 3, 4, 15]\n",
        "\n",
        "# calculating length of array\n",
        "n = len(arr)\n",
        "\n",
        "ans = _sum(arr)\n",
        "\n",
        "# display sum\n",
        "print('Sum of the array is ', ans)\n"
      ],
      "metadata": {
        "id": "O5YdKzYF9K8d"
      },
      "execution_count": null,
      "outputs": []
    },
    {
      "cell_type": "markdown",
      "source": [
        "program to find maximum in arr[] of size n"
      ],
      "metadata": {
        "id": "JSTrhe2t928E"
      }
    },
    {
      "cell_type": "code",
      "source": [
        "# Python3 code to demonstrate\n",
        "# Split on last occurrence of delimiter\n",
        "# using rsplit()\n",
        " \n",
        "# initializing string\n",
        "test_string = \"gfg, is, good, better, and best\"\n",
        " \n",
        "# printing original string\n",
        "print(\"The original string : \" + str(test_string))\n",
        " \n",
        "# using rsplit()\n",
        "# Split on last occurrence of delimiter\n",
        "res = test_string.rsplit(', ', 1)\n",
        " \n",
        "# print result\n",
        "print(\"The splitted list at the last comma : \" + str(res))"
      ],
      "metadata": {
        "colab": {
          "base_uri": "https://localhost:8080/"
        },
        "id": "Bnwyp0BZhWam",
        "outputId": "4b9717b8-eb00-4dea-c2eb-377d8c9be9ad"
      },
      "execution_count": null,
      "outputs": [
        {
          "output_type": "stream",
          "name": "stdout",
          "text": [
            "The original string : gfg, is, good, better, and best\n",
            "The splitted list at the last comma : ['gfg, is, good, better', 'and best']\n"
          ]
        }
      ]
    },
    {
      "cell_type": "code",
      "source": [
        "# Python 3 code to find maximum in arr[] of size n\n",
        "# python function to find maximum\n",
        "# in arr[] of size n\n",
        "\n",
        "\n",
        "def largest(arr, n):\n",
        "\n",
        "\t# Initialize maximum element\n",
        "\tmax = arr[0]\n",
        "\n",
        "\t# Traverse array elements from second\n",
        "\t# and compare every element with\n",
        "\t# current max\n",
        "\tfor i in range(1, n):\n",
        "\t\tif arr[i] > max:\n",
        "\t\t\tmax = arr[i]\n",
        "\treturn max\n",
        "\n",
        "\n",
        "# Driver Code\n",
        "arr = [10, 324, 45, 90, 9808]\n",
        "n = len(arr)\n",
        "Ans = largest(arr, n)\n",
        "print(\"Largest in given array \", Ans)\n",
        "\n",
        "\n"
      ],
      "metadata": {
        "id": "IOBqMpqZ9pTb"
      },
      "execution_count": null,
      "outputs": []
    },
    {
      "cell_type": "code",
      "source": [
        "# Python3 code to demonstrate\n",
        "# Split on last occurrence of delimiter\n",
        "# using rsplit()\n",
        "\n",
        "# initializing string\n",
        "test_string = \"gfg, is, good, better, and best\"\n",
        "\n",
        "# printing original string\n",
        "print(\"The original string : \" + str(test_string))\n",
        "\n",
        "# using rsplit()\n",
        "# Split on last occurrence of delimiter\n",
        "res = test_string.rsplit(', ', 1)\n",
        "\n",
        "# print result\n",
        "print(\"The splitted list at the last comma : \" + str(res))\n",
        "\n"
      ],
      "metadata": {
        "id": "1ESIYa7DiYrH"
      },
      "execution_count": null,
      "outputs": []
    },
    {
      "cell_type": "markdown",
      "source": [],
      "metadata": {
        "id": "rv793xvhjO45"
      }
    },
    {
      "cell_type": "code",
      "source": [
        "# Python3 code to demonstrate\n",
        "# Split on last occurrence of delimiter\n",
        "\n",
        "\n",
        "# initializing string\n",
        "test_string = \"gfg, is, good, better, and best\"\n",
        "\n",
        "# printing original string\n",
        "print(\"The original string : \" + str(test_string))\n",
        "\n",
        "\n",
        "# Split on last occurrence of delimiter\n",
        "p=test_string.count(\",\")\n",
        "c=0\n",
        "new=\"\"\n",
        "for i in test_string:\n",
        "\tif(i==\",\" and c<p-1):\n",
        "\t\tnew+=\"*\"\n",
        "\t\tc+=1\n",
        "\telse:\n",
        "\t\tnew+=i\n",
        "x=new.split(\",\")\n",
        "x[0]=x[0].replace(\"*\",\",\")\n",
        "\n",
        "# print result\n",
        "print(\"The splitted list at the last comma : \" + str(x))\n",
        "\n"
      ],
      "metadata": {
        "id": "ZMpHJbx1iydd"
      },
      "execution_count": null,
      "outputs": []
    }
  ]
}